{
 "cells": [
  {
   "cell_type": "code",
   "execution_count": null,
   "metadata": {
    "application/vnd.databricks.v1+cell": {
     "cellMetadata": {
      "byteLimit": 2048000,
      "rowLimit": 10000
     },
     "inputWidgets": {},
     "nuid": "c254f027-8a2b-4d8e-85dc-0e5d27b47c48",
     "showTitle": false,
     "title": ""
    }
   },
   "outputs": [],
   "source": [
    "import pandas as pd\n",
    "import os\n",
    "import json\n",
    "import sys\n",
    "import datetime\n",
    "from yahoo_fin import stock_info as si\n",
    "from dotenv import load_dotenv\n",
    "import re"
   ]
  },
  {
   "cell_type": "code",
   "execution_count": null,
   "metadata": {
    "application/vnd.databricks.v1+cell": {
     "cellMetadata": {
      "byteLimit": 2048000,
      "rowLimit": 10000
     },
     "inputWidgets": {},
     "nuid": "57cde8aa-19a8-47d5-8824-5cc9212cb311",
     "showTitle": false,
     "title": ""
    }
   },
   "outputs": [],
   "source": [
    "load_dotenv()\n",
    "# Specify the path to the desired directory\n",
    "Workspace_directory_path = '/Workspace/Users/'\n",
    "# Change the current working directory\n",
    "os.chdir(Workspace_directory_path)\n",
    "#Opening the stock market json file\n",
    "with open(r'nasdaq-10-stocks.json','r') as stocks_json:\n",
    "    stock_list = json.load(stocks_json)\n"
   ]
  },
  {
   "cell_type": "code",
   "execution_count": null,
   "metadata": {
    "application/vnd.databricks.v1+cell": {
     "cellMetadata": {
      "byteLimit": 2048000,
      "rowLimit": 10000
     },
     "inputWidgets": {},
     "nuid": "6541110a-1e3a-48f4-80cd-10fe3eb1abf6",
     "showTitle": false,
     "title": ""
    }
   },
   "outputs": [],
   "source": [
    "# Create an empty DataFrame to store the data\n",
    "stock_info_agg = pd.DataFrame()\n",
    "\n",
    "#Function for removing special characters from column name\n",
    "def column_name_clean(stocks):\n",
    "    cols = list(stocks.columns)\n",
    "    new_col=[]\n",
    "    for col in cols:\n",
    "        new_cols = re.sub('[^a-zA-Z0-9 \\n]', '', col)\n",
    "        new_cols = new_cols.replace(' ','_')\n",
    "        new_col.append(new_cols)\n",
    "    stocks.columns = new_col\n",
    "    return(stocks)"
   ]
  },
  {
   "cell_type": "code",
   "execution_count": null,
   "metadata": {
    "application/vnd.databricks.v1+cell": {
     "cellMetadata": {
      "byteLimit": 2048000,
      "rowLimit": 10000
     },
     "inputWidgets": {},
     "nuid": "23763d52-3083-4b1b-b1d2-7d65a0445156",
     "showTitle": false,
     "title": ""
    }
   },
   "outputs": [],
   "source": [
    "# Function for transforming stock information\n",
    "def stock_info_transform(stock_info,ticker,stock_name):\n",
    "    stock_info = stock_info.transpose()\n",
    "    new_header = stock_info.iloc[0]\n",
    "    stock_info = stock_info[1:]\n",
    "    stock_info.columns = new_header\n",
    "    stock_info[\"ticker\"] = ticker\n",
    "    stock_info[\"stock\"] = stock_name\n",
    "    stock_info[\"Date\"] = datetime.date.today()\n",
    "    stock_info = column_name_clean(stock_info)\n",
    "    return(stock_info)\n",
    "\n",
    "#Function for retrieving stock info\n",
    "def stock_info_load(stock_info_agg):\n",
    "    for stock in stock_list:\n",
    "        stock_info = si.get_stats_valuation(f\"{stock['ticker']}\")\n",
    "        stock_info = stock_info_transform(stock_info,stock[\"ticker\"],stock[\"stock\"])\n",
    "        if stock_info_agg.empty :\n",
    "            stock_info_agg = stock_info\n",
    "        else:\n",
    "            stock_info_agg = pd.concat([stock_info_agg,stock_info],ignore_index=False)\n",
    "    return(stock_info_agg)"
   ]
  },
  {
   "cell_type": "code",
   "execution_count": null,
   "metadata": {
    "application/vnd.databricks.v1+cell": {
     "cellMetadata": {
      "byteLimit": 2048000,
      "rowLimit": 10000
     },
     "inputWidgets": {},
     "nuid": "3cc076d3-a8ee-452f-bb51-0087052bceca",
     "showTitle": false,
     "title": ""
    }
   },
   "outputs": [],
   "source": [
    "# Converting data frame to csv format\n",
    "stock_info = stock_info_load(stock_info_agg)\n",
    "stock_info = spark.createDataFrame(stock_info)"
   ]
  },
  {
   "cell_type": "code",
   "execution_count": null,
   "metadata": {
    "application/vnd.databricks.v1+cell": {
     "cellMetadata": {
      "byteLimit": 2048000,
      "rowLimit": 10000
     },
     "inputWidgets": {},
     "nuid": "eca89314-ed93-4d2d-89a1-f7256c285c27",
     "showTitle": false,
     "title": ""
    }
   },
   "outputs": [
    {
     "data": {
      "text/plain": [
       "True"
      ]
     },
     "execution_count": 60,
     "metadata": {},
     "output_type": "execute_result"
    }
   ],
   "source": [
    "temp_output_path = '/mnt/stocks_adlsgen2/nasdaq-stocks-info-ingest/temp_file/'\n",
    "output_path = '/mnt/stocks_adlsgen2/nasdaq-stocks-info-ingest/stock_info.csv'\n",
    "stock_info.repartition(1).write.mode(\"overwrite\").option(\"header\",\"true\").csv(temp_output_path)\n",
    "filenames = dbutils.fs.ls(temp_output_path)\n",
    "for filename in filenames:\n",
    "    if filename.name.endswith('.csv'):\n",
    "        name = filename.name\n",
    "dbutils.fs.cp(temp_output_path + name, output_path)\n",
    "dbutils.fs.rm(temp_output_path,recurse=True)"
   ]
  },
  {
   "cell_type": "code",
   "execution_count": null,
   "metadata": {
    "application/vnd.databricks.v1+cell": {
     "cellMetadata": {
      "byteLimit": 2048000,
      "rowLimit": 10000
     },
     "inputWidgets": {},
     "nuid": "f72bfffe-fbf1-4606-afe9-54487c2d678e",
     "showTitle": false,
     "title": ""
    }
   },
   "outputs": [],
   "source": []
  }
 ],
 "metadata": {
  "application/vnd.databricks.v1+notebook": {
   "dashboards": [],
   "language": "python",
   "notebookMetadata": {
    "pythonIndentUnit": 4
   },
   "notebookName": "nasdaq-10-stock-info-daily-adlsgen2-load",
   "widgets": {}
  },
  "language_info": {
   "name": "python"
  }
 },
 "nbformat": 4,
 "nbformat_minor": 0
}
